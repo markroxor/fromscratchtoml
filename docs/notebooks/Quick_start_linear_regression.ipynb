{
 "cells": [
  {
   "cell_type": "code",
   "execution_count": 1,
   "metadata": {},
   "outputs": [],
   "source": [
    "import torch as ch\n",
    "import fromscratchtoml as fs2ml"
   ]
  },
  {
   "cell_type": "code",
   "execution_count": 2,
   "metadata": {},
   "outputs": [],
   "source": [
    "x = ch.Tensor([[1.0], [2.0], [3.0]])\n",
    "y = ch.Tensor([[2.0], [4.0], [6.0]])\n",
    "test_data = ch.randn(10, 1)"
   ]
  },
  {
   "cell_type": "code",
   "execution_count": 3,
   "metadata": {},
   "outputs": [
    {
     "data": {
      "text/plain": [
       "\n",
       " 0.2910\n",
       " 1.3203\n",
       " 0.8063\n",
       "-0.2863\n",
       "-1.8458\n",
       " 0.1300\n",
       " 1.1455\n",
       " 0.4403\n",
       " 0.0177\n",
       "-0.0841\n",
       "[torch.FloatTensor of size 10x1]"
      ]
     },
     "execution_count": 3,
     "metadata": {},
     "output_type": "execute_result"
    }
   ],
   "source": [
    "test_data"
   ]
  },
  {
   "cell_type": "code",
   "execution_count": 4,
   "metadata": {},
   "outputs": [],
   "source": [
    "lr = fs2ml.linear_regression.LinearRegressionClassifier()\n",
    "lr.fit(x, y, optimizer='analytical')"
   ]
  },
  {
   "cell_type": "code",
   "execution_count": 5,
   "metadata": {},
   "outputs": [
    {
     "name": "stderr",
     "output_type": "stream",
     "text": [
      "INFO:fromscratchtoml.linear_regression.LinearRegressionClassifier:Predicted value for test_data 0.2909948229789734 bias 0.0 and slope 2.0 is 0.5819896459579468\n",
      "INFO:fromscratchtoml.linear_regression.LinearRegressionClassifier:Predicted value for test_data 1.3203115463256836 bias 0.0 and slope 2.0 is 2.640623092651367\n",
      "INFO:fromscratchtoml.linear_regression.LinearRegressionClassifier:Predicted value for test_data 0.8063423037528992 bias 0.0 and slope 2.0 is 1.6126846075057983\n",
      "INFO:fromscratchtoml.linear_regression.LinearRegressionClassifier:Predicted value for test_data -0.28630995750427246 bias 0.0 and slope 2.0 is -0.5726199150085449\n",
      "INFO:fromscratchtoml.linear_regression.LinearRegressionClassifier:Predicted value for test_data -1.8458266258239746 bias 0.0 and slope 2.0 is -3.691653251647949\n",
      "INFO:fromscratchtoml.linear_regression.LinearRegressionClassifier:Predicted value for test_data 0.1299862265586853 bias 0.0 and slope 2.0 is 0.2599724531173706\n",
      "INFO:fromscratchtoml.linear_regression.LinearRegressionClassifier:Predicted value for test_data 1.1455153226852417 bias 0.0 and slope 2.0 is 2.2910306453704834\n",
      "INFO:fromscratchtoml.linear_regression.LinearRegressionClassifier:Predicted value for test_data 0.44029298424720764 bias 0.0 and slope 2.0 is 0.8805859684944153\n",
      "INFO:fromscratchtoml.linear_regression.LinearRegressionClassifier:Predicted value for test_data 0.017715979367494583 bias 0.0 and slope 2.0 is 0.035431958734989166\n",
      "INFO:fromscratchtoml.linear_regression.LinearRegressionClassifier:Predicted value for test_data -0.08407521992921829 bias 0.0 and slope 2.0 is -0.16815043985843658\n"
     ]
    }
   ],
   "source": [
    "lr.predict(test_data)"
   ]
  }
 ],
 "metadata": {
  "kernelspec": {
   "display_name": "Python 3",
   "language": "python",
   "name": "python3"
  },
  "language_info": {
   "codemirror_mode": {
    "name": "ipython",
    "version": 3
   },
   "file_extension": ".py",
   "mimetype": "text/x-python",
   "name": "python",
   "nbconvert_exporter": "python",
   "pygments_lexer": "ipython3",
   "version": "3.5.2"
  }
 },
 "nbformat": 4,
 "nbformat_minor": 2
}
