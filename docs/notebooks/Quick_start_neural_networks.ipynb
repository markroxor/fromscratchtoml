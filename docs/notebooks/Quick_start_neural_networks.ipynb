{
 "cells": [
  {
   "cell_type": "code",
   "execution_count": 9,
   "metadata": {
    "collapsed": true
   },
   "outputs": [],
   "source": [
    "from fromscratchtoml.models import nn\n",
    "import torch as ch\n",
    "import numpy as np\n",
    "import torch\n",
    "from torchvision import datasets, transforms"
   ]
  },
  {
   "cell_type": "code",
   "execution_count": 2,
   "metadata": {
    "collapsed": true
   },
   "outputs": [],
   "source": [
    "x = ch.Tensor([[0, 0],[0, 1],[1, 0], [1, 1]])\n",
    "y = ch.Tensor([[1,0], [0,1], [0,1], [1,0]])\n",
    "train_datax = ch.utils.data.TensorDataset(x, y)"
   ]
  },
  {
   "cell_type": "code",
   "execution_count": 3,
   "metadata": {
    "collapsed": true
   },
   "outputs": [],
   "source": [
    "nw = nn.NeuralNetwork([2, 5, 2])"
   ]
  },
  {
   "cell_type": "code",
   "execution_count": 4,
   "metadata": {},
   "outputs": [
    {
     "name": "stderr",
     "output_type": "stream",
     "text": [
      "INFO:fromscratchtoml.nn.nn:Epoch 0:\n",
      "INFO:fromscratchtoml.nn.nn:Accuracy is 50.0\n",
      "INFO:fromscratchtoml.nn.nn:Epoch 1:\n",
      "INFO:fromscratchtoml.nn.nn:Accuracy is 75.0\n",
      "INFO:fromscratchtoml.nn.nn:Epoch 2:\n",
      "INFO:fromscratchtoml.nn.nn:Accuracy is 25.0\n",
      "INFO:fromscratchtoml.nn.nn:Epoch 3:\n",
      "INFO:fromscratchtoml.nn.nn:Accuracy is 75.0\n",
      "INFO:fromscratchtoml.nn.nn:Epoch 4:\n",
      "INFO:fromscratchtoml.nn.nn:Accuracy is 25.0\n",
      "INFO:fromscratchtoml.nn.nn:Epoch 5:\n",
      "INFO:fromscratchtoml.nn.nn:Accuracy is 75.0\n",
      "INFO:fromscratchtoml.nn.nn:Epoch 6:\n",
      "INFO:fromscratchtoml.nn.nn:Accuracy is 25.0\n",
      "INFO:fromscratchtoml.nn.nn:Epoch 7:\n",
      "INFO:fromscratchtoml.nn.nn:Accuracy is 75.0\n",
      "INFO:fromscratchtoml.nn.nn:Epoch 8:\n",
      "INFO:fromscratchtoml.nn.nn:Accuracy is 50.0\n",
      "INFO:fromscratchtoml.nn.nn:Epoch 9:\n",
      "INFO:fromscratchtoml.nn.nn:Accuracy is 75.0\n",
      "INFO:fromscratchtoml.nn.nn:Epoch 10:\n",
      "INFO:fromscratchtoml.nn.nn:Accuracy is 50.0\n",
      "INFO:fromscratchtoml.nn.nn:Epoch 11:\n",
      "INFO:fromscratchtoml.nn.nn:Accuracy is 75.0\n",
      "INFO:fromscratchtoml.nn.nn:Epoch 12:\n",
      "INFO:fromscratchtoml.nn.nn:Accuracy is 50.0\n",
      "INFO:fromscratchtoml.nn.nn:Epoch 13:\n",
      "INFO:fromscratchtoml.nn.nn:Accuracy is 75.0\n",
      "INFO:fromscratchtoml.nn.nn:Epoch 14:\n",
      "INFO:fromscratchtoml.nn.nn:Accuracy is 50.0\n",
      "INFO:fromscratchtoml.nn.nn:Epoch 15:\n",
      "INFO:fromscratchtoml.nn.nn:Accuracy is 75.0\n",
      "INFO:fromscratchtoml.nn.nn:Epoch 16:\n",
      "INFO:fromscratchtoml.nn.nn:Accuracy is 50.0\n",
      "INFO:fromscratchtoml.nn.nn:Epoch 17:\n",
      "INFO:fromscratchtoml.nn.nn:Accuracy is 75.0\n",
      "INFO:fromscratchtoml.nn.nn:Epoch 18:\n",
      "INFO:fromscratchtoml.nn.nn:Accuracy is 50.0\n",
      "INFO:fromscratchtoml.nn.nn:Epoch 19:\n",
      "INFO:fromscratchtoml.nn.nn:Accuracy is 75.0\n",
      "INFO:fromscratchtoml.nn.nn:Epoch 20:\n",
      "INFO:fromscratchtoml.nn.nn:Accuracy is 50.0\n",
      "INFO:fromscratchtoml.nn.nn:Epoch 21:\n",
      "INFO:fromscratchtoml.nn.nn:Accuracy is 75.0\n",
      "INFO:fromscratchtoml.nn.nn:Epoch 22:\n",
      "INFO:fromscratchtoml.nn.nn:Accuracy is 50.0\n",
      "INFO:fromscratchtoml.nn.nn:Epoch 23:\n",
      "INFO:fromscratchtoml.nn.nn:Accuracy is 75.0\n",
      "INFO:fromscratchtoml.nn.nn:Epoch 24:\n",
      "INFO:fromscratchtoml.nn.nn:Accuracy is 25.0\n",
      "INFO:fromscratchtoml.nn.nn:Epoch 25:\n",
      "INFO:fromscratchtoml.nn.nn:Accuracy is 75.0\n",
      "INFO:fromscratchtoml.nn.nn:Epoch 26:\n",
      "INFO:fromscratchtoml.nn.nn:Accuracy is 25.0\n",
      "INFO:fromscratchtoml.nn.nn:Epoch 27:\n",
      "INFO:fromscratchtoml.nn.nn:Accuracy is 75.0\n",
      "INFO:fromscratchtoml.nn.nn:Epoch 28:\n",
      "INFO:fromscratchtoml.nn.nn:Accuracy is 50.0\n",
      "INFO:fromscratchtoml.nn.nn:Epoch 29:\n",
      "INFO:fromscratchtoml.nn.nn:Accuracy is 75.0\n",
      "INFO:fromscratchtoml.nn.nn:Epoch 30:\n",
      "INFO:fromscratchtoml.nn.nn:Accuracy is 75.0\n",
      "INFO:fromscratchtoml.nn.nn:Epoch 31:\n",
      "INFO:fromscratchtoml.nn.nn:Accuracy is 75.0\n",
      "INFO:fromscratchtoml.nn.nn:Epoch 32:\n",
      "INFO:fromscratchtoml.nn.nn:Accuracy is 75.0\n",
      "INFO:fromscratchtoml.nn.nn:Epoch 33:\n",
      "INFO:fromscratchtoml.nn.nn:Accuracy is 75.0\n",
      "INFO:fromscratchtoml.nn.nn:Epoch 34:\n",
      "INFO:fromscratchtoml.nn.nn:Accuracy is 75.0\n",
      "INFO:fromscratchtoml.nn.nn:Epoch 35:\n",
      "INFO:fromscratchtoml.nn.nn:Accuracy is 75.0\n",
      "INFO:fromscratchtoml.nn.nn:Epoch 36:\n",
      "INFO:fromscratchtoml.nn.nn:Accuracy is 75.0\n",
      "INFO:fromscratchtoml.nn.nn:Epoch 37:\n",
      "INFO:fromscratchtoml.nn.nn:Accuracy is 75.0\n",
      "INFO:fromscratchtoml.nn.nn:Epoch 38:\n",
      "INFO:fromscratchtoml.nn.nn:Accuracy is 75.0\n",
      "INFO:fromscratchtoml.nn.nn:Epoch 39:\n",
      "INFO:fromscratchtoml.nn.nn:Accuracy is 75.0\n",
      "INFO:fromscratchtoml.nn.nn:Epoch 40:\n",
      "INFO:fromscratchtoml.nn.nn:Accuracy is 75.0\n",
      "INFO:fromscratchtoml.nn.nn:Epoch 41:\n",
      "INFO:fromscratchtoml.nn.nn:Accuracy is 75.0\n",
      "INFO:fromscratchtoml.nn.nn:Epoch 42:\n",
      "INFO:fromscratchtoml.nn.nn:Accuracy is 75.0\n",
      "INFO:fromscratchtoml.nn.nn:Epoch 43:\n",
      "INFO:fromscratchtoml.nn.nn:Accuracy is 75.0\n",
      "INFO:fromscratchtoml.nn.nn:Epoch 44:\n",
      "INFO:fromscratchtoml.nn.nn:Accuracy is 75.0\n",
      "INFO:fromscratchtoml.nn.nn:Epoch 45:\n",
      "INFO:fromscratchtoml.nn.nn:Accuracy is 75.0\n",
      "INFO:fromscratchtoml.nn.nn:Epoch 46:\n",
      "INFO:fromscratchtoml.nn.nn:Accuracy is 75.0\n",
      "INFO:fromscratchtoml.nn.nn:Epoch 47:\n",
      "INFO:fromscratchtoml.nn.nn:Accuracy is 75.0\n",
      "INFO:fromscratchtoml.nn.nn:Epoch 48:\n",
      "INFO:fromscratchtoml.nn.nn:Accuracy is 75.0\n",
      "INFO:fromscratchtoml.nn.nn:Epoch 49:\n",
      "INFO:fromscratchtoml.nn.nn:Accuracy is 75.0\n"
     ]
    }
   ],
   "source": [
    "nw.SGD(train_data=train_datax, epochs=50, batch_size=4, lr=3, test_data=train_datax)"
   ]
  },
  {
   "cell_type": "code",
   "execution_count": 5,
   "metadata": {},
   "outputs": [
    {
     "name": "stdout",
     "output_type": "stream",
     "text": [
      "Downloading http://yann.lecun.com/exdb/mnist/train-images-idx3-ubyte.gz\n",
      "Downloading http://yann.lecun.com/exdb/mnist/train-labels-idx1-ubyte.gz\n",
      "Downloading http://yann.lecun.com/exdb/mnist/t10k-images-idx3-ubyte.gz\n",
      "Downloading http://yann.lecun.com/exdb/mnist/t10k-labels-idx1-ubyte.gz\n",
      "Processing...\n",
      "Done!\n"
     ]
    }
   ],
   "source": [
    "train_loader =  datasets.MNIST('../data', train=True, download=True,\n",
    "                   transform=transforms.Compose([\n",
    "                       transforms.ToTensor(),\n",
    "                       transforms.Normalize((0.1307,), (0.3081,))\n",
    "                   ]))\n",
    "test_loader = datasets.MNIST('../data', train=False, transform=transforms.Compose([\n",
    "                       transforms.ToTensor(),\n",
    "                       transforms.Normalize((0.1307,), (0.3081,))\n",
    "                   ]))"
   ]
  },
  {
   "cell_type": "code",
   "execution_count": 6,
   "metadata": {},
   "outputs": [
    {
     "data": {
      "text/plain": [
       "torchvision.datasets.mnist.MNIST"
      ]
     },
     "execution_count": 6,
     "metadata": {},
     "output_type": "execute_result"
    }
   ],
   "source": [
    "type(train_loader)"
   ]
  },
  {
   "cell_type": "code",
   "execution_count": 7,
   "metadata": {
    "collapsed": true
   },
   "outputs": [],
   "source": [
    "nw = nn.NeuralNetwork([784, 30, 10])"
   ]
  },
  {
   "cell_type": "code",
   "execution_count": 9,
   "metadata": {},
   "outputs": [
    {
     "name": "stderr",
     "output_type": "stream",
     "text": [
      "INFO:fromscratchtoml.nn.nn:Epoch 0:\n",
      "INFO:fromscratchtoml.nn.nn:Accuracy is 89.03\n",
      "INFO:fromscratchtoml.nn.nn:Epoch 1:\n",
      "INFO:fromscratchtoml.nn.nn:Accuracy is 90.6\n",
      "INFO:fromscratchtoml.nn.nn:Epoch 2:\n",
      "INFO:fromscratchtoml.nn.nn:Accuracy is 91.09\n",
      "INFO:fromscratchtoml.nn.nn:Epoch 3:\n",
      "INFO:fromscratchtoml.nn.nn:Accuracy is 91.98\n",
      "INFO:fromscratchtoml.nn.nn:Epoch 4:\n",
      "INFO:fromscratchtoml.nn.nn:Accuracy is 91.66\n",
      "INFO:fromscratchtoml.nn.nn:Epoch 5:\n",
      "INFO:fromscratchtoml.nn.nn:Accuracy is 92.69\n",
      "INFO:fromscratchtoml.nn.nn:Epoch 6:\n",
      "INFO:fromscratchtoml.nn.nn:Accuracy is 92.37\n",
      "INFO:fromscratchtoml.nn.nn:Epoch 7:\n",
      "INFO:fromscratchtoml.nn.nn:Accuracy is 92.59\n",
      "INFO:fromscratchtoml.nn.nn:Epoch 8:\n",
      "INFO:fromscratchtoml.nn.nn:Accuracy is 93.05\n",
      "INFO:fromscratchtoml.nn.nn:Epoch 9:\n",
      "INFO:fromscratchtoml.nn.nn:Accuracy is 92.5\n",
      "INFO:fromscratchtoml.nn.nn:Epoch 10:\n",
      "INFO:fromscratchtoml.nn.nn:Accuracy is 93.18\n",
      "INFO:fromscratchtoml.nn.nn:Epoch 11:\n",
      "INFO:fromscratchtoml.nn.nn:Accuracy is 92.94\n",
      "INFO:fromscratchtoml.nn.nn:Epoch 12:\n",
      "INFO:fromscratchtoml.nn.nn:Accuracy is 92.75\n",
      "INFO:fromscratchtoml.nn.nn:Epoch 13:\n",
      "INFO:fromscratchtoml.nn.nn:Accuracy is 93.1\n",
      "INFO:fromscratchtoml.nn.nn:Epoch 14:\n",
      "INFO:fromscratchtoml.nn.nn:Accuracy is 93.09\n",
      "INFO:fromscratchtoml.nn.nn:Epoch 15:\n",
      "INFO:fromscratchtoml.nn.nn:Accuracy is 92.55\n",
      "INFO:fromscratchtoml.nn.nn:Epoch 16:\n",
      "INFO:fromscratchtoml.nn.nn:Accuracy is 93.22\n",
      "INFO:fromscratchtoml.nn.nn:Epoch 17:\n",
      "INFO:fromscratchtoml.nn.nn:Accuracy is 93.38\n",
      "INFO:fromscratchtoml.nn.nn:Epoch 18:\n",
      "INFO:fromscratchtoml.nn.nn:Accuracy is 93.33\n",
      "INFO:fromscratchtoml.nn.nn:Epoch 19:\n",
      "INFO:fromscratchtoml.nn.nn:Accuracy is 93.76\n",
      "INFO:fromscratchtoml.nn.nn:Epoch 20:\n",
      "INFO:fromscratchtoml.nn.nn:Accuracy is 93.98\n",
      "INFO:fromscratchtoml.nn.nn:Epoch 21:\n",
      "INFO:fromscratchtoml.nn.nn:Accuracy is 93.77\n",
      "INFO:fromscratchtoml.nn.nn:Epoch 22:\n",
      "INFO:fromscratchtoml.nn.nn:Accuracy is 93.74\n",
      "INFO:fromscratchtoml.nn.nn:Epoch 23:\n",
      "INFO:fromscratchtoml.nn.nn:Accuracy is 93.7\n",
      "INFO:fromscratchtoml.nn.nn:Epoch 24:\n",
      "INFO:fromscratchtoml.nn.nn:Accuracy is 93.7\n",
      "INFO:fromscratchtoml.nn.nn:Epoch 25:\n",
      "INFO:fromscratchtoml.nn.nn:Accuracy is 93.73\n",
      "INFO:fromscratchtoml.nn.nn:Epoch 26:\n",
      "INFO:fromscratchtoml.nn.nn:Accuracy is 93.21\n",
      "INFO:fromscratchtoml.nn.nn:Epoch 27:\n",
      "INFO:fromscratchtoml.nn.nn:Accuracy is 93.45\n",
      "INFO:fromscratchtoml.nn.nn:Epoch 28:\n",
      "INFO:fromscratchtoml.nn.nn:Accuracy is 93.77\n",
      "INFO:fromscratchtoml.nn.nn:Epoch 29:\n",
      "INFO:fromscratchtoml.nn.nn:Accuracy is 93.92\n"
     ]
    }
   ],
   "source": [
    "nw.SGD(train_data=train_loader, epochs=30, batch_size=10, lr=0.5, test_data=test_loader)"
   ]
  },
  {
   "cell_type": "code",
   "execution_count": null,
   "metadata": {
    "collapsed": true
   },
   "outputs": [],
   "source": []
  }
 ],
 "metadata": {
  "kernelspec": {
   "display_name": "Python 2",
   "language": "python",
   "name": "python2"
  },
  "language_info": {
   "codemirror_mode": {
    "name": "ipython",
    "version": 2
   },
   "file_extension": ".py",
   "mimetype": "text/x-python",
   "name": "python",
   "nbconvert_exporter": "python",
   "pygments_lexer": "ipython2",
   "version": "2.7.14"
  }
 },
 "nbformat": 4,
 "nbformat_minor": 2
}
