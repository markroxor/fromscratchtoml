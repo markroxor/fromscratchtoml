{
 "cells": [
  {
   "cell_type": "code",
   "execution_count": 51,
   "metadata": {},
   "outputs": [],
   "source": [
    "import numpy as np\n",
    "import copy\n",
    "from collections import OrderedDict"
   ]
  },
  {
   "cell_type": "code",
   "execution_count": 73,
   "metadata": {},
   "outputs": [],
   "source": [
    "class GaussianNB():\n",
    "    def __init__(self):\n",
    "        self.prior_dict = {}\n",
    "\n",
    "    def fit(self, full_data):\n",
    "        \n",
    "        columns = full_data[0:1][0]\n",
    "        full_data = full_data[1:].astype(int)\n",
    "        label_columns = full_data[:,-1]\n",
    "        \n",
    "        n_samples_yes = len(label_columns[label_columns==1])\n",
    "        n_samples_no = len(label_columns[label_columns==0])\n",
    "        \n",
    "        col_id = 1\n",
    "        \n",
    "        prob_dict = OrderedDict()\n",
    "        prob_dict[1]= ((n_samples_yes)*1.0)/len(full_data)\n",
    "        prob_dict[0]= ((n_samples_no)*1.0)/len(full_data)\n",
    "        \n",
    "        for col_name in columns[1:-1]:\n",
    "            temp_data = np.dstack([full_data[:,col_id],label_columns[:]])[0]\n",
    "            \n",
    "            prob_dict[col_name]= {}\n",
    "            \n",
    "            for unique_feature in np.unique(full_data[:,col_id]):\n",
    "                prob_dict[col_name][unique_feature] = {}\n",
    "                \n",
    "                get_rows = temp_data[temp_data[:,0]==unique_feature]\n",
    "                get_rows = get_rows.astype(int)\n",
    "                \n",
    "                class_1 = (len(get_rows[np.where(get_rows[:,1] == 1)])*1.0)/n_samples_yes\n",
    "                class_0 = (len(get_rows[np.where(get_rows[:,1] == 0)])*1.0)/n_samples_no\n",
    "                \n",
    "                prob_dict[col_name][unique_feature][0] = class_0\n",
    "                prob_dict[col_name][unique_feature][1] = class_1\n",
    "            col_id+=1\n",
    "\n",
    "        self.prior_dict =  copy.deepcopy(prob_dict)\n",
    "    def predict(self, to_predict):\n",
    "        \n",
    "        results = []\n",
    "        \n",
    "        for sample_input in to_predict:\n",
    "            yes_prob = 1.0\n",
    "            no_prob = 1.0\n",
    "            \n",
    "            for f_id,feature_names in enumerate(self.prior_dict.keys()[2:]):\n",
    "                yes_prob *= self.prior_dict[feature_names][sample_input[f_id]][1]\n",
    "                no_prob *= self.prior_dict[feature_names][sample_input[f_id]][0]\n",
    "\n",
    "            yes_prob *=self.prior_dict[1]\n",
    "            no_prob *=self.prior_dict[0]\n",
    "\n",
    "            if yes_prob>no_prob:\n",
    "                results.append(1)\n",
    "            else:\n",
    "                results.append(0)\n",
    "        return results\n",
    "        \n",
    "    \n"
   ]
  },
  {
   "cell_type": "code",
   "execution_count": null,
   "metadata": {},
   "outputs": [],
   "source": []
  }
 ],
 "metadata": {
  "kernelspec": {
   "display_name": "Python 2",
   "language": "python",
   "name": "python2"
  },
  "language_info": {
   "codemirror_mode": {
    "name": "ipython",
    "version": 2
   },
   "file_extension": ".py",
   "mimetype": "text/x-python",
   "name": "python",
   "nbconvert_exporter": "python",
   "pygments_lexer": "ipython2",
   "version": "2.7.15"
  }
 },
 "nbformat": 4,
 "nbformat_minor": 2
}
