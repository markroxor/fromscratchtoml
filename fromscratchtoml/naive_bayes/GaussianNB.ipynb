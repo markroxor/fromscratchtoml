{
 "cells": [
  {
   "cell_type": "code",
   "execution_count": 243,
   "metadata": {},
   "outputs": [],
   "source": [
    "import numpy as np"
   ]
  },
  {
   "cell_type": "markdown",
   "metadata": {},
   "source": [
    "# Hello heading"
   ]
  },
  {
   "cell_type": "code",
   "execution_count": 244,
   "metadata": {},
   "outputs": [],
   "source": [
    "my_data = np.genfromtxt('data.csv', delimiter=',',dtype=str)"
   ]
  },
  {
   "cell_type": "code",
   "execution_count": 245,
   "metadata": {},
   "outputs": [
    {
     "data": {
      "text/plain": [
       "array([['Index', 'Outlook', 'Temperature', 'Humidty', 'Windy', 'PlayGolf'],\n",
       "       ['0', '0', '0', '1', '0', '0'],\n",
       "       ['1', '0', '0', '1', '1', '0'],\n",
       "       ['2', '1', '0', '1', '0', '1'],\n",
       "       ['3', '2', '1', '1', '0', '1'],\n",
       "       ['4', '2', '2', '0', '0', '1'],\n",
       "       ['5', '2', '2', '0', '1', '0'],\n",
       "       ['6', '1', '2', '0', '1', '1'],\n",
       "       ['7', '0', '1', '1', '0', '0'],\n",
       "       ['8', '0', '2', '0', '0', '1'],\n",
       "       ['9', '2', '1', '0', '0', '1'],\n",
       "       ['10', '0', '1', '1', '1', '1'],\n",
       "       ['11', '1', '1', '1', '1', '1'],\n",
       "       ['12', '1', '0', '0', '0', '1'],\n",
       "       ['13', '2', '1', '1', '1', '0']],\n",
       "      dtype='|S11')"
      ]
     },
     "execution_count": 245,
     "metadata": {},
     "output_type": "execute_result"
    }
   ],
   "source": [
    "my_data"
   ]
  },
  {
   "cell_type": "code",
   "execution_count": 246,
   "metadata": {},
   "outputs": [
    {
     "name": "stdout",
     "output_type": "stream",
     "text": [
      "[['Index' 'Outlook' 'Temperature' 'Humidty' 'Windy' 'PlayGolf']]\n"
     ]
    }
   ],
   "source": [
    "columns = my_data[0:1]\n",
    "print columns"
   ]
  },
  {
   "cell_type": "code",
   "execution_count": 247,
   "metadata": {},
   "outputs": [],
   "source": [
    "#my_data = my_data[1:]"
   ]
  },
  {
   "cell_type": "code",
   "execution_count": 248,
   "metadata": {},
   "outputs": [
    {
     "data": {
      "text/plain": [
       "array([['Index', 'Outlook', 'Temperature', 'Humidty', 'Windy', 'PlayGolf'],\n",
       "       ['0', '0', '0', '1', '0', '0'],\n",
       "       ['1', '0', '0', '1', '1', '0'],\n",
       "       ['2', '1', '0', '1', '0', '1'],\n",
       "       ['3', '2', '1', '1', '0', '1'],\n",
       "       ['4', '2', '2', '0', '0', '1'],\n",
       "       ['5', '2', '2', '0', '1', '0'],\n",
       "       ['6', '1', '2', '0', '1', '1'],\n",
       "       ['7', '0', '1', '1', '0', '0'],\n",
       "       ['8', '0', '2', '0', '0', '1'],\n",
       "       ['9', '2', '1', '0', '0', '1'],\n",
       "       ['10', '0', '1', '1', '1', '1'],\n",
       "       ['11', '1', '1', '1', '1', '1'],\n",
       "       ['12', '1', '0', '0', '0', '1'],\n",
       "       ['13', '2', '1', '1', '1', '0']],\n",
       "      dtype='|S11')"
      ]
     },
     "execution_count": 248,
     "metadata": {},
     "output_type": "execute_result"
    }
   ],
   "source": [
    "my_data"
   ]
  },
  {
   "cell_type": "code",
   "execution_count": 249,
   "metadata": {},
   "outputs": [
    {
     "name": "stdout",
     "output_type": "stream",
     "text": [
      "15\n"
     ]
    },
    {
     "data": {
      "text/plain": [
       "array(['PlayGolf', '0', '0', '1', '1', '1', '0', '1', '0', '1', '1', '1',\n",
       "       '1', '1', '0'],\n",
       "      dtype='|S11')"
      ]
     },
     "execution_count": 249,
     "metadata": {},
     "output_type": "execute_result"
    }
   ],
   "source": [
    "total_samples = len(my_data)\n",
    "print total_samples\n",
    "\n",
    "label_columns = my_data[:,-1]\n",
    "label_columns"
   ]
  },
  {
   "cell_type": "code",
   "execution_count": 261,
   "metadata": {},
   "outputs": [],
   "source": [
    "\n",
    "def calulate_prior(full_data):\n",
    "    columns = full_data[0:1][0]\n",
    "    full_data = full_data[1:].astype(int)\n",
    "    label_columns = full_data[:,-1]\n",
    "    print label_columns\n",
    "    print \n",
    "    n_samples_yes = len(label_columns[label_columns==1])\n",
    "    n_samples_no = len(label_columns[label_columns==0])\n",
    "    print \"n_samples_yes\",n_samples_yes\n",
    "    #print full_data\n",
    "    print len(columns)\n",
    "    print columns\n",
    "    col_id = 1\n",
    "    prob_dict = {}\n",
    "    prob_dict[1]= ((n_samples_yes)*1.0)/len(full_data)\n",
    "    prob_dict[0]= ((n_samples_no)*1.0)/len(full_data)\n",
    "    for col_name in columns[1:-1]:\n",
    "        print \"col id is\",col_id, col_name\n",
    "        \n",
    "        temp_data = np.dstack([full_data[:,col_id],label_columns[:]])[0]\n",
    "        print temp_data\n",
    "        prob_dict[col_name]= {}\n",
    "        for unique_feature in np.unique(full_data[:,col_id]):\n",
    "            print \"unique f\",unique_feature,['Rainy','overcast','sunny'][unique_feature]\n",
    "            prob_dict[col_name][unique_feature] = {}\n",
    "            print unique_feature\n",
    "            get_rows = temp_data[temp_data[:,0]==unique_feature]\n",
    "            get_rows = get_rows.astype(int)\n",
    "            print get_rows\n",
    "            #class_1 = str((len(get_rows[np.where(get_rows[:,1] == 1)])*1.0))+'//'+str(n_samples_yes)\n",
    "            class_1 = (len(get_rows[np.where(get_rows[:,1] == 1)])*1.0)/n_samples_yes\n",
    "            print class_1\n",
    "            #class_0 = str(len(get_rows[np.where(get_rows[:,1] == 0)])*1.0)+'//'+str(n_samples_no)\n",
    "            class_0 = (len(get_rows[np.where(get_rows[:,1] == 0)])*1.0)/n_samples_no\n",
    "            print class_0\n",
    "            prob_dict[col_name][unique_feature][0] = class_0\n",
    "            prob_dict[col_name][unique_feature][1] = class_1\n",
    "        col_id+=1\n",
    "        \n",
    "    return prob_dict\n"
   ]
  },
  {
   "cell_type": "code",
   "execution_count": 262,
   "metadata": {},
   "outputs": [
    {
     "name": "stdout",
     "output_type": "stream",
     "text": [
      "[0 0 1 1 1 0 1 0 1 1 1 1 1 0]\n",
      "\n",
      "n_samples_yes 9\n",
      "6\n",
      "['Index' 'Outlook' 'Temperature' 'Humidty' 'Windy' 'PlayGolf']\n",
      "col id is 1 Outlook\n",
      "[[0 0]\n",
      " [0 0]\n",
      " [1 1]\n",
      " [2 1]\n",
      " [2 1]\n",
      " [2 0]\n",
      " [1 1]\n",
      " [0 0]\n",
      " [0 1]\n",
      " [2 1]\n",
      " [0 1]\n",
      " [1 1]\n",
      " [1 1]\n",
      " [2 0]]\n",
      "unique f 0 Rainy\n",
      "0\n",
      "[[0 0]\n",
      " [0 0]\n",
      " [0 0]\n",
      " [0 1]\n",
      " [0 1]]\n",
      "0.222222222222\n",
      "0.6\n",
      "unique f 1 overcast\n",
      "1\n",
      "[[1 1]\n",
      " [1 1]\n",
      " [1 1]\n",
      " [1 1]]\n",
      "0.444444444444\n",
      "0.0\n",
      "unique f 2 sunny\n",
      "2\n",
      "[[2 1]\n",
      " [2 1]\n",
      " [2 0]\n",
      " [2 1]\n",
      " [2 0]]\n",
      "0.333333333333\n",
      "0.4\n",
      "col id is 2 Temperature\n",
      "[[0 0]\n",
      " [0 0]\n",
      " [0 1]\n",
      " [1 1]\n",
      " [2 1]\n",
      " [2 0]\n",
      " [2 1]\n",
      " [1 0]\n",
      " [2 1]\n",
      " [1 1]\n",
      " [1 1]\n",
      " [1 1]\n",
      " [0 1]\n",
      " [1 0]]\n",
      "unique f 0 Rainy\n",
      "0\n",
      "[[0 0]\n",
      " [0 0]\n",
      " [0 1]\n",
      " [0 1]]\n",
      "0.222222222222\n",
      "0.4\n",
      "unique f 1 overcast\n",
      "1\n",
      "[[1 1]\n",
      " [1 0]\n",
      " [1 1]\n",
      " [1 1]\n",
      " [1 1]\n",
      " [1 0]]\n",
      "0.444444444444\n",
      "0.4\n",
      "unique f 2 sunny\n",
      "2\n",
      "[[2 1]\n",
      " [2 0]\n",
      " [2 1]\n",
      " [2 1]]\n",
      "0.333333333333\n",
      "0.2\n",
      "col id is 3 Humidty\n",
      "[[1 0]\n",
      " [1 0]\n",
      " [1 1]\n",
      " [1 1]\n",
      " [0 1]\n",
      " [0 0]\n",
      " [0 1]\n",
      " [1 0]\n",
      " [0 1]\n",
      " [0 1]\n",
      " [1 1]\n",
      " [1 1]\n",
      " [0 1]\n",
      " [1 0]]\n",
      "unique f 0 Rainy\n",
      "0\n",
      "[[0 1]\n",
      " [0 0]\n",
      " [0 1]\n",
      " [0 1]\n",
      " [0 1]\n",
      " [0 1]]\n",
      "0.555555555556\n",
      "0.2\n",
      "unique f 1 overcast\n",
      "1\n",
      "[[1 0]\n",
      " [1 0]\n",
      " [1 1]\n",
      " [1 1]\n",
      " [1 0]\n",
      " [1 1]\n",
      " [1 1]\n",
      " [1 0]]\n",
      "0.444444444444\n",
      "0.8\n",
      "col id is 4 Windy\n",
      "[[0 0]\n",
      " [1 0]\n",
      " [0 1]\n",
      " [0 1]\n",
      " [0 1]\n",
      " [1 0]\n",
      " [1 1]\n",
      " [0 0]\n",
      " [0 1]\n",
      " [0 1]\n",
      " [1 1]\n",
      " [1 1]\n",
      " [0 1]\n",
      " [1 0]]\n",
      "unique f 0 Rainy\n",
      "0\n",
      "[[0 0]\n",
      " [0 1]\n",
      " [0 1]\n",
      " [0 1]\n",
      " [0 0]\n",
      " [0 1]\n",
      " [0 1]\n",
      " [0 1]]\n",
      "0.666666666667\n",
      "0.4\n",
      "unique f 1 overcast\n",
      "1\n",
      "[[1 0]\n",
      " [1 0]\n",
      " [1 1]\n",
      " [1 1]\n",
      " [1 1]\n",
      " [1 0]]\n",
      "0.333333333333\n",
      "0.6\n"
     ]
    }
   ],
   "source": [
    "prior_dict = calulate_prior(my_data)"
   ]
  },
  {
   "cell_type": "code",
   "execution_count": 263,
   "metadata": {},
   "outputs": [
    {
     "name": "stdout",
     "output_type": "stream",
     "text": [
      "{0: 0.35714285714285715, 1: 0.6428571428571429, 'Outlook': {0: {0: 0.6, 1: 0.2222222222222222}, 1: {0: 0.0, 1: 0.4444444444444444}, 2: {0: 0.4, 1: 0.3333333333333333}}, 'Temperature': {0: {0: 0.4, 1: 0.2222222222222222}, 1: {0: 0.4, 1: 0.4444444444444444}, 2: {0: 0.2, 1: 0.3333333333333333}}, 'Windy': {0: {0: 0.4, 1: 0.6666666666666666}, 1: {0: 0.6, 1: 0.3333333333333333}}, 'Humidty': {0: {0: 0.2, 1: 0.5555555555555556}, 1: {0: 0.8, 1: 0.4444444444444444}}}\n",
      "[0, 1, 'Outlook', 'Temperature', 'Windy', 'Humidty']\n"
     ]
    }
   ],
   "source": [
    "sample_input = [0,0,0,0]\n",
    "print prior_dict\n",
    "print prior_dict.keys()"
   ]
  },
  {
   "cell_type": "code",
   "execution_count": 270,
   "metadata": {},
   "outputs": [
    {
     "name": "stdout",
     "output_type": "stream",
     "text": [
      "Play Golf\n"
     ]
    },
    {
     "data": {
      "text/plain": [
       "True"
      ]
     },
     "execution_count": 270,
     "metadata": {},
     "output_type": "execute_result"
    }
   ],
   "source": [
    "def predict(sample_input,prior_dict=prior_dict):\n",
    "    yes_prob = 1.0\n",
    "    no_prob = 1.0\n",
    "    for f_id,feature_names in enumerate(prior_dict.keys()[2:]):\n",
    "        yes_prob *= prior_dict[feature_names][sample_input[f_id]][1]\n",
    "        no_prob *= prior_dict[feature_names][sample_input[f_id]][0]\n",
    "    \n",
    "    yes_prob *=prior_dict[1]\n",
    "    no_prob *=prior_dict[0]\n",
    "    \n",
    "    if yes_prob>no_prob:\n",
    "        print \"Play Golf\"\n",
    "    else:\n",
    "        print \"Dont play Golf\"\n",
    "    return yes_prob>no_prob\n",
    "predict(sample_input)"
   ]
  },
  {
   "cell_type": "code",
   "execution_count": 264,
   "metadata": {},
   "outputs": [
    {
     "name": "stdout",
     "output_type": "stream",
     "text": [
      "{0: {0: 0.6, 1: 0.2222222222222222}, 1: {0: 0.0, 1: 0.4444444444444444}, 2: {0: 0.4, 1: 0.3333333333333333}}\n",
      "Outlook 0 0.6\n",
      "{0: {0: 0.4, 1: 0.2222222222222222}, 1: {0: 0.4, 1: 0.4444444444444444}, 2: {0: 0.2, 1: 0.3333333333333333}}\n",
      "Temperature 0 0.4\n",
      "{0: {0: 0.4, 1: 0.6666666666666666}, 1: {0: 0.6, 1: 0.3333333333333333}}\n",
      "Windy 0 0.4\n",
      "{0: {0: 0.2, 1: 0.5555555555555556}, 1: {0: 0.8, 1: 0.4444444444444444}}\n",
      "Humidty 0 0.2\n"
     ]
    }
   ],
   "source": [
    "yes_prob = 1.0\n",
    "no_prob = 1.0\n",
    "for f_id,feature_names in enumerate(prior_dict.keys()[2:]):\n",
    "    \n",
    "    print prior_dict[feature_names]\n",
    "    print feature_names,sample_input[f_id], prior_dict[feature_names][sample_input[f_id]][0]\n",
    "    yes_prob *= prior_dict[feature_names][sample_input[f_id]][1]\n",
    "    no_prob *= prior_dict[feature_names][sample_input[f_id]][0]"
   ]
  },
  {
   "cell_type": "code",
   "execution_count": 268,
   "metadata": {},
   "outputs": [],
   "source": [
    "#final_yes = (yes_prob)/(yes_prob+no_prob)\n",
    "yes_prob *=prior_dict[1]\n",
    "no_prob *=prior_dict[0]"
   ]
  },
  {
   "cell_type": "code",
   "execution_count": 269,
   "metadata": {},
   "outputs": [
    {
     "name": "stdout",
     "output_type": "stream",
     "text": [
      "Play Golf\n"
     ]
    }
   ],
   "source": [
    "if yes_prob>no_prob:\n",
    "    print \"Play Golf\"\n",
    "else:\n",
    "    print \"Dont play Golf\""
   ]
  },
  {
   "cell_type": "code",
   "execution_count": 267,
   "metadata": {},
   "outputs": [
    {
     "data": {
      "text/plain": [
       "0.006857142857142858"
      ]
     },
     "execution_count": 267,
     "metadata": {},
     "output_type": "execute_result"
    }
   ],
   "source": [
    "no_prob*prior_dict[0]"
   ]
  },
  {
   "cell_type": "code",
   "execution_count": null,
   "metadata": {},
   "outputs": [],
   "source": []
  },
  {
   "cell_type": "code",
   "execution_count": null,
   "metadata": {},
   "outputs": [],
   "source": []
  }
 ],
 "metadata": {
  "kernelspec": {
   "display_name": "Python 2",
   "language": "python",
   "name": "python2"
  },
  "language_info": {
   "codemirror_mode": {
    "name": "ipython",
    "version": 2
   },
   "file_extension": ".py",
   "mimetype": "text/x-python",
   "name": "python",
   "nbconvert_exporter": "python",
   "pygments_lexer": "ipython2",
   "version": "2.7.15"
  }
 },
 "nbformat": 4,
 "nbformat_minor": 2
}
