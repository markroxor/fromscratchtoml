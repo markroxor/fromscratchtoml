{
 "cells": [
  {
   "cell_type": "code",
   "execution_count": 10,
   "metadata": {},
   "outputs": [],
   "source": [
    "from fromscratchtoml.naive_bayes import GaussianNB\n",
    "from unittest import TestCase\n",
    "import numpy as np"
   ]
  },
  {
   "cell_type": "code",
   "execution_count": 9,
   "metadata": {},
   "outputs": [],
   "source": [
    "def TestGaussianNB(TestCase):\n",
    "    def testPredictions(self):\n",
    "        my_data = np.genfromtxt('data.csv', delimiter=',',dtype=str)\n",
    "        clf = GaussianNB()\n",
    "        clf.fit(my_data)\n",
    "        my_preds = clf.predict([[0,0,0,0], [1,1,1,0], [1,2,0,0], [2,1,1,1], [0,1,1,0], [1,2,0,0], [2,0,1,1]])\n",
    "\n",
    "        X = my_data[1:]\n",
    "        X = np.delete(X,0,axis=1)\n",
    "        y = X[:,-1].astype(int)\n",
    "        X = np.delete(X,-1,axis=1).astype(int)\n",
    "        from sklearn.naive_bayes import GaussianNB\n",
    "        gnb = GaussianNB()\n",
    "        gnb.fit(X, y)\n",
    "        sklearn_predicts =  gnb.predict([[0,0,0,0], [1,1,1,0], [1,2,0,0], [2,1,1,1], [0,1,1,0], [1,2,0,0], [2,0,1,1]])\n",
    "        self.assertTrue(np.allclose(sklearn_predicts, my_preds)) \n",
    "\n"
   ]
  },
  {
   "cell_type": "code",
   "execution_count": null,
   "metadata": {},
   "outputs": [],
   "source": []
  }
 ],
 "metadata": {
  "kernelspec": {
   "display_name": "Python 2",
   "language": "python",
   "name": "python2"
  },
  "language_info": {
   "codemirror_mode": {
    "name": "ipython",
    "version": 2
   },
   "file_extension": ".py",
   "mimetype": "text/x-python",
   "name": "python",
   "nbconvert_exporter": "python",
   "pygments_lexer": "ipython2",
   "version": "2.7.15"
  }
 },
 "nbformat": 4,
 "nbformat_minor": 2
}
